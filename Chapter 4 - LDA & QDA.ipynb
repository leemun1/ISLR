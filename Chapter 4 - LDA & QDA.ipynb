{
 "cells": [
  {
   "cell_type": "markdown",
   "metadata": {},
   "source": [
    "# Chapter 4 - LDA & QDA\n",
    "\n",
    "### Linear Discriminant Analysis and Quadratic Discriminant Analysis\n",
    "\n",
    "This notebook presents the Python implementation of exercises from the book *\"Introduction to Statistical Learning\"* (a.k.a. ISLR) by Gareth James et al.\n",
    "\n",
    "---"
   ]
  },
  {
   "cell_type": "markdown",
   "metadata": {},
   "source": [
    "# Lab Exercises"
   ]
  },
  {
   "cell_type": "markdown",
   "metadata": {},
   "source": [
    "## The Stock Market Data"
   ]
  },
  {
   "cell_type": "markdown",
   "metadata": {},
   "source": [
    "**Dataset**: Smarket.csv; Daily percentage returns for the S&P 500 stock index between 2001 and 2005.\n",
    "\n",
    "    \n",
    "**Variables**: 1250 observations on the following 9 variables.\n",
    "\n",
    "* Year: The year that the observation was recorded\n",
    "* Lag1: Percentage return for previous day\n",
    "* Lag2: Percentage return for 2 days previous\n",
    "* Lag3: Percentage return for 3 days previous\n",
    "* Lag4: Percentage return for 4 days previous\n",
    "* Lag5: Percentage return for 5 days previous\n",
    "* Volume: Volume of shares traded (number of daily shares traded in billions)\n",
    "* Today: Percentage return for today\n",
    "* Direction: A factor with levels Down and Up indicating whether the market had a positive or negative return on a given day"
   ]
  },
  {
   "cell_type": "code",
   "execution_count": 2,
   "metadata": {},
   "outputs": [
    {
     "name": "stderr",
     "output_type": "stream",
     "text": [
      "C:\\Users\\munky\\Anaconda\\lib\\site-packages\\statsmodels\\compat\\pandas.py:56: FutureWarning: The pandas.core.datetools module is deprecated and will be removed in a future version. Please use the pandas.tseries module instead.\n",
      "  from pandas.core import datetools\n"
     ]
    }
   ],
   "source": [
    "# import dependencies\n",
    "import pandas as pd\n",
    "import numpy as np\n",
    "import matplotlib.pyplot as plt\n",
    "import seaborn as sns\n",
    "\n",
    "import sklearn.linear_model as skl_lm\n",
    "from sklearn.discriminant_analysis import LinearDiscriminantAnalysis\n",
    "from sklearn.discriminant_analysis import QuadraticDiscriminantAnalysis\n",
    "from sklearn.metrics import confusion_matrix, classification_report, precision_score\n",
    "from sklearn import preprocessing\n",
    "from sklearn import neighbors\n",
    "\n",
    "import statsmodels.api as sm\n",
    "import statsmodels.formula.api as smf\n",
    "\n",
    "sns.set_style('whitegrid')\n",
    "sns.set_palette('RdBu')\n",
    "\n",
    "%matplotlib inline"
   ]
  },
  {
   "cell_type": "code",
   "execution_count": 14,
   "metadata": {},
   "outputs": [],
   "source": [
    "# Import data\n",
    "smarket = pd.read_csv('data/ISLR/Smarket.csv', usecols=range(1,10), index_col=0, parse_dates=True)"
   ]
  },
  {
   "cell_type": "markdown",
   "metadata": {},
   "source": [
    "## Linear Discriminant Analysis"
   ]
  },
  {
   "cell_type": "code",
   "execution_count": 15,
   "metadata": {
    "collapsed": true
   },
   "outputs": [],
   "source": [
    "X_train = smarket[:'2004'][['Lag1','Lag2']]\n",
    "y_train = smarket[:'2004']['Direction']\n",
    "\n",
    "X_test = smarket['2005':][['Lag1','Lag2']]\n",
    "y_test = smarket['2005':]['Direction']\n",
    "\n",
    "lda = LinearDiscriminantAnalysis()\n",
    "pred = lda.fit(X_train, y_train).predict(X_test)"
   ]
  },
  {
   "cell_type": "code",
   "execution_count": 56,
   "metadata": {},
   "outputs": [
    {
     "name": "stdout",
     "output_type": "stream",
     "text": [
      "Prior probabilities of groups:\n",
      "\n",
      "      Probability\n",
      "Down        0.492\n",
      "Up          0.508\n"
     ]
    }
   ],
   "source": [
    "prior_probs = pd.DataFrame(lda.priors_, index=['Down', 'Up'], columns=['Probability'])\n",
    "print('Prior probabilities of groups:', prior_probs.round(3), sep='\\n\\n')"
   ]
  },
  {
   "cell_type": "markdown",
   "metadata": {},
   "source": [
    "49.2% of training observations correspond to days during which the market went down."
   ]
  },
  {
   "cell_type": "code",
   "execution_count": 55,
   "metadata": {},
   "outputs": [
    {
     "name": "stdout",
     "output_type": "stream",
     "text": [
      "Group Means:\n",
      "\n",
      "       Lag1   Lag2\n",
      "Down  0.043  0.034\n",
      "Up   -0.040 -0.031\n"
     ]
    }
   ],
   "source": [
    "group_means = pd.DataFrame(lda.means_, index=['Down', 'Up'], columns=['Lag1', 'Lag2'])\n",
    "print('Group Means:', group_means.round(3), sep='\\n\\n')"
   ]
  },
  {
   "cell_type": "markdown",
   "metadata": {},
   "source": [
    "Group means are the average of each predictor within each class. These suggest that there is a tendency for the previous 2 days' returns to be negative on days when the market increases, and a tendency for the previous day's returns to be positive on days when the market declines."
   ]
  },
  {
   "cell_type": "code",
   "execution_count": 58,
   "metadata": {},
   "outputs": [
    {
     "name": "stdout",
     "output_type": "stream",
     "text": [
      "Coefficients of linear discriminants:\n",
      "\n",
      "      Lag1   Lag2\n",
      "LD1 -0.055 -0.044\n"
     ]
    }
   ],
   "source": [
    "coefs = pd.DataFrame(lda.coef_, index=['LD1'], columns=['Lag1', 'Lag2'])\n",
    "print('Coefficients of linear discriminants:', coefs.round(3), sep='\\n\\n')"
   ]
  },
  {
   "cell_type": "markdown",
   "metadata": {},
   "source": [
    "These coefficients provide the linear combination of Lag1 and Lag2 that are used to form the LDA decision rule. For instance, if -0.055 x Lag1 - 0.044 x Lag2 is large, then the LDA classifier will predict a market increase, else a market decrease. "
   ]
  },
  {
   "cell_type": "code",
   "execution_count": 64,
   "metadata": {},
   "outputs": [],
   "source": [
    "# Create a list of LDA predictions about market movement on test set\n",
    "pred = lda.predict(X_test)\n",
    "\n",
    "# Assign posterior probabilities for each of the prediction\n",
    "pred_p = lda.predict_proba(X_test)"
   ]
  },
  {
   "cell_type": "code",
   "execution_count": 88,
   "metadata": {},
   "outputs": [
    {
     "name": "stdout",
     "output_type": "stream",
     "text": [
      "Confusion Matrix:\n"
     ]
    },
    {
     "data": {
      "text/html": [
       "<div>\n",
       "<style>\n",
       "    .dataframe thead tr:only-child th {\n",
       "        text-align: right;\n",
       "    }\n",
       "\n",
       "    .dataframe thead th {\n",
       "        text-align: left;\n",
       "    }\n",
       "\n",
       "    .dataframe tbody tr th {\n",
       "        vertical-align: top;\n",
       "    }\n",
       "</style>\n",
       "<table border=\"1\" class=\"dataframe\">\n",
       "  <thead>\n",
       "    <tr style=\"text-align: right;\">\n",
       "      <th>True</th>\n",
       "      <th>Down</th>\n",
       "      <th>Up</th>\n",
       "    </tr>\n",
       "    <tr>\n",
       "      <th>Pred</th>\n",
       "      <th></th>\n",
       "      <th></th>\n",
       "    </tr>\n",
       "  </thead>\n",
       "  <tbody>\n",
       "    <tr>\n",
       "      <th>Down</th>\n",
       "      <td>35</td>\n",
       "      <td>35</td>\n",
       "    </tr>\n",
       "    <tr>\n",
       "      <th>Up</th>\n",
       "      <td>76</td>\n",
       "      <td>106</td>\n",
       "    </tr>\n",
       "  </tbody>\n",
       "</table>\n",
       "</div>"
      ],
      "text/plain": [
       "True  Down   Up\n",
       "Pred           \n",
       "Down    35   35\n",
       "Up      76  106"
      ]
     },
     "execution_count": 88,
     "metadata": {},
     "output_type": "execute_result"
    }
   ],
   "source": [
    "# Display the confusion matrix\n",
    "print('Confusion Matrix:')\n",
    "cm = pd.DataFrame(confusion_matrix(y_test, pred).T, index=y_test.unique(), columns=y_test.unique())\n",
    "cm.rename_axis('Pred').rename_axis(\"True\", axis=1)"
   ]
  },
  {
   "cell_type": "code",
   "execution_count": 90,
   "metadata": {
    "scrolled": true
   },
   "outputs": [
    {
     "name": "stdout",
     "output_type": "stream",
     "text": [
      "             precision    recall  f1-score   support\n",
      "\n",
      "       Down      0.500     0.315     0.387       111\n",
      "         Up      0.582     0.752     0.656       141\n",
      "\n",
      "avg / total      0.546     0.560     0.538       252\n",
      "\n"
     ]
    }
   ],
   "source": [
    "print(classification_report(y_test, pred, digits=3))"
   ]
  },
  {
   "cell_type": "markdown",
   "metadata": {},
   "source": [
    "Applying a 50% threshhold to the posterior probs allows us to recreate the predictions contained in our test prediction results."
   ]
  },
  {
   "cell_type": "code",
   "execution_count": 102,
   "metadata": {
    "scrolled": true
   },
   "outputs": [
    {
     "data": {
      "text/plain": [
       "(array([False,  True], dtype=bool), array([ 70, 182], dtype=int64))"
      ]
     },
     "execution_count": 102,
     "metadata": {},
     "output_type": "execute_result"
    }
   ],
   "source": [
    "np.unique(pred_p[:,1]>0.5, return_counts=True)"
   ]
  },
  {
   "cell_type": "markdown",
   "metadata": {},
   "source": [
    "Note that the posterior prob output by the model corresponds to the prob that the market will **decline**.\n",
    "\n",
    "Now suppose we wanted to use a posterior prob threshold other than 50%, say 90%. For instance, we may wish to predict a market decline only if we are very sure that the market will indeed decline on that day."
   ]
  },
  {
   "cell_type": "code",
   "execution_count": 92,
   "metadata": {
    "scrolled": true
   },
   "outputs": [
    {
     "data": {
      "text/plain": [
       "(array([False], dtype=bool), array([252], dtype=int64))"
      ]
     },
     "execution_count": 92,
     "metadata": {},
     "output_type": "execute_result"
    }
   ],
   "source": [
    "np.unique(pred_p[:,1]>0.9, return_counts=True)"
   ]
  },
  {
   "cell_type": "markdown",
   "metadata": {},
   "source": [
    "No True values are returned; i.e., no days in 2005 meet this threshhold."
   ]
  },
  {
   "cell_type": "markdown",
   "metadata": {},
   "source": [
    "## Quadratic Discriminant Analysis\n",
    "\n",
    "Implementing QDA is very similar to LDA."
   ]
  },
  {
   "cell_type": "code",
   "execution_count": 103,
   "metadata": {
    "collapsed": true
   },
   "outputs": [],
   "source": [
    "X_train = smarket[:'2004'][['Lag1','Lag2']]\n",
    "y_train = smarket[:'2004']['Direction']\n",
    "\n",
    "X_test = smarket['2005':][['Lag1','Lag2']]\n",
    "y_test = smarket['2005':]['Direction']\n",
    "\n",
    "qda = QuadraticDiscriminantAnalysis()\n",
    "pred = qda.fit(X_train, y_train).predict(X_test)"
   ]
  },
  {
   "cell_type": "code",
   "execution_count": 104,
   "metadata": {},
   "outputs": [
    {
     "name": "stdout",
     "output_type": "stream",
     "text": [
      "Prior probabilities of groups:\n",
      "\n",
      "      Probability\n",
      "Down        0.492\n",
      "Up          0.508\n"
     ]
    }
   ],
   "source": [
    "prior_probs = pd.DataFrame(qda.priors_, index=['Down', 'Up'], columns=['Probability'])\n",
    "print('Prior probabilities of groups:', prior_probs.round(3), sep='\\n\\n')"
   ]
  },
  {
   "cell_type": "code",
   "execution_count": 105,
   "metadata": {},
   "outputs": [
    {
     "name": "stdout",
     "output_type": "stream",
     "text": [
      "Group Means:\n",
      "\n",
      "       Lag1   Lag2\n",
      "Down  0.043  0.034\n",
      "Up   -0.040 -0.031\n"
     ]
    }
   ],
   "source": [
    "group_means = pd.DataFrame(qda.means_, index=['Down', 'Up'], columns=['Lag1', 'Lag2'])\n",
    "print('Group Means:', group_means.round(3), sep='\\n\\n')"
   ]
  },
  {
   "cell_type": "code",
   "execution_count": 107,
   "metadata": {
    "collapsed": true
   },
   "outputs": [],
   "source": [
    "# Create a list of LDA predictions about market movement on test set\n",
    "pred = qda.predict(X_test)\n",
    "\n",
    "# Assign posterior probabilities for each of the prediction\n",
    "pred_p = qda.predict_proba(X_test)"
   ]
  },
  {
   "cell_type": "code",
   "execution_count": 108,
   "metadata": {},
   "outputs": [
    {
     "name": "stdout",
     "output_type": "stream",
     "text": [
      "Confusion Matrix:\n"
     ]
    },
    {
     "data": {
      "text/html": [
       "<div>\n",
       "<style>\n",
       "    .dataframe thead tr:only-child th {\n",
       "        text-align: right;\n",
       "    }\n",
       "\n",
       "    .dataframe thead th {\n",
       "        text-align: left;\n",
       "    }\n",
       "\n",
       "    .dataframe tbody tr th {\n",
       "        vertical-align: top;\n",
       "    }\n",
       "</style>\n",
       "<table border=\"1\" class=\"dataframe\">\n",
       "  <thead>\n",
       "    <tr style=\"text-align: right;\">\n",
       "      <th>True</th>\n",
       "      <th>Down</th>\n",
       "      <th>Up</th>\n",
       "    </tr>\n",
       "    <tr>\n",
       "      <th>Pred</th>\n",
       "      <th></th>\n",
       "      <th></th>\n",
       "    </tr>\n",
       "  </thead>\n",
       "  <tbody>\n",
       "    <tr>\n",
       "      <th>Down</th>\n",
       "      <td>30</td>\n",
       "      <td>20</td>\n",
       "    </tr>\n",
       "    <tr>\n",
       "      <th>Up</th>\n",
       "      <td>81</td>\n",
       "      <td>121</td>\n",
       "    </tr>\n",
       "  </tbody>\n",
       "</table>\n",
       "</div>"
      ],
      "text/plain": [
       "True  Down   Up\n",
       "Pred           \n",
       "Down    30   20\n",
       "Up      81  121"
      ]
     },
     "execution_count": 108,
     "metadata": {},
     "output_type": "execute_result"
    }
   ],
   "source": [
    "# Display the confusion matrix\n",
    "print('Confusion Matrix:')\n",
    "cm = pd.DataFrame(confusion_matrix(y_test, pred).T, index=y_test.unique(), columns=y_test.unique())\n",
    "cm.rename_axis('Pred').rename_axis(\"True\", axis=1)"
   ]
  },
  {
   "cell_type": "code",
   "execution_count": 109,
   "metadata": {
    "scrolled": true
   },
   "outputs": [
    {
     "name": "stdout",
     "output_type": "stream",
     "text": [
      "             precision    recall  f1-score   support\n",
      "\n",
      "       Down      0.600     0.270     0.373       111\n",
      "         Up      0.599     0.858     0.706       141\n",
      "\n",
      "avg / total      0.599     0.599     0.559       252\n",
      "\n"
     ]
    }
   ],
   "source": [
    "print(classification_report(y_test, pred, digits=3))"
   ]
  },
  {
   "cell_type": "markdown",
   "metadata": {},
   "source": [
    "Interestingly, the QDA predictions are accurate almost 60% of the time, even though the model was tested on unobserved data. This level of accuracy is quite impressive for stock market data, which is generally difficult to model accurately. "
   ]
  },
  {
   "cell_type": "code",
   "execution_count": 115,
   "metadata": {
    "scrolled": true
   },
   "outputs": [
    {
     "data": {
      "text/plain": [
       "(array([False,  True], dtype=bool), array([ 50, 202], dtype=int64))"
      ]
     },
     "execution_count": 115,
     "metadata": {},
     "output_type": "execute_result"
    }
   ],
   "source": [
    "# applying a posterior probability threshhold of 50%\n",
    "np.unique(pred_p[:,1]>0.5, return_counts=True)"
   ]
  },
  {
   "cell_type": "code",
   "execution_count": 114,
   "metadata": {
    "scrolled": true
   },
   "outputs": [
    {
     "data": {
      "text/plain": [
       "(array([False], dtype=bool), array([252], dtype=int64))"
      ]
     },
     "execution_count": 114,
     "metadata": {},
     "output_type": "execute_result"
    }
   ],
   "source": [
    "# applying a posterior probability threshhold of 90%\n",
    "np.unique(pred_p[:,1]>0.9, return_counts=True)"
   ]
  },
  {
   "cell_type": "markdown",
   "metadata": {},
   "source": [
    "---\n",
    "### References:\n",
    "\n",
    "ISLR-python: http://nbviewer.jupyter.org/github/JWarmenhoven/ISL-python/blob/master/Notebooks/Chapter%203.ipynb"
   ]
  }
 ],
 "metadata": {
  "kernelspec": {
   "display_name": "Python 3",
   "language": "python",
   "name": "python3"
  },
  "language_info": {
   "codemirror_mode": {
    "name": "ipython",
    "version": 3
   },
   "file_extension": ".py",
   "mimetype": "text/x-python",
   "name": "python",
   "nbconvert_exporter": "python",
   "pygments_lexer": "ipython3",
   "version": "3.6.1"
  }
 },
 "nbformat": 4,
 "nbformat_minor": 2
}
